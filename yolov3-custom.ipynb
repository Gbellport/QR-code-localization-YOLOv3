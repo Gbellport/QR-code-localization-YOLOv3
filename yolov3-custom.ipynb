{
 "cells": [
  {
   "cell_type": "markdown",
   "metadata": {},
   "source": [
    "# YOLOv3 with custom objects\n",
    "These are the steps I followed on Google's Colab to train a yolov3 model on custom objects. My project involved **QR code localization** but besides the data and model configuration, the process is the same to train yolov3 on any custom object."
   ]
  },
  {
   "cell_type": "markdown",
   "metadata": {},
   "source": [
    "## Setting up the environment"
   ]
  },
  {
   "cell_type": "code",
   "execution_count": null,
   "metadata": {},
   "outputs": [],
   "source": [
    "# Remove some of the default files from Codalab\n",
    "!rm -rf sample_data"
   ]
  },
  {
   "cell_type": "code",
   "execution_count": null,
   "metadata": {},
   "outputs": [],
   "source": [
    "%%shell\n",
    "# Update and upgrade packages\n",
    "apt-get update\n",
    "apt-get upgrade\n",
    "\n",
    "# Some dependencies & extra\n",
    "apt-get -y install cmake\n",
    "apt-get install libopencv-dev\n",
    "apt-get install vim\n",
    "\n",
    "# Compilers\n",
    "apt install g++-5\n",
    "apt install gcc-5\n",
    "\n",
    "# CUDA\n",
    "wget https://developer.nvidia.com/compute/cuda/8.0/Prod2/local_installers/cuda-repo-ubuntu1604-8-0-local-ga2_8.0.61-1_amd64-deb\n",
    "dpkg -i cuda-repo-ubuntu1604-8-0-local-ga2_8.0.61-1_amd64-deb\n",
    "apt-get install cuda -y -qq\n",
    "apt install cuda-8.0 -y"
   ]
  },
  {
   "cell_type": "code",
   "execution_count": null,
   "metadata": {},
   "outputs": [],
   "source": [
    "# Check that tensorflow-gpu recognizes your GPU\n",
    "import tensorflow as tf\n",
    "print(tf.test.gpu_device_name())\n",
    "\n",
    "# Check CUDA installation and drivers\n",
    "!nvcc --version\n",
    "!nvidia-smi"
   ]
  },
  {
   "cell_type": "markdown",
   "metadata": {},
   "source": [
    "## Darknet and weights"
   ]
  },
  {
   "cell_type": "code",
   "execution_count": null,
   "metadata": {},
   "outputs": [],
   "source": [
    "# Get the Darknet repo\n",
    "!git clone https://github.com/AlexeyAB/darknet.git"
   ]
  },
  {
   "cell_type": "code",
   "execution_count": null,
   "metadata": {},
   "outputs": [],
   "source": [
    "# Modify Makefile to include GPU usage\n",
    "%%shell\n",
    "cd darknet\n",
    "sed -i 's/OPENCV=0/OPENCV=1/g' Makefile\n",
    "sed -i 's/GPU=0/GPU=1/g' Makefile"
   ]
  },
  {
   "cell_type": "code",
   "execution_count": null,
   "metadata": {},
   "outputs": [],
   "source": [
    "# You can run this to make sure the Makefile was properly modified (stop manually)\n",
    "%%shell\n",
    "cd darknet\n",
    "vim Makefile"
   ]
  },
  {
   "cell_type": "markdown",
   "metadata": {},
   "source": [
    "Now that everything is set up, we need to compile the project. After compiling check that darknet.exe is in the main branch or in build/darknet/x64. If you can't find darknet.exe then the project didn't compile correctly"
   ]
  },
  {
   "cell_type": "code",
   "execution_count": null,
   "metadata": {},
   "outputs": [],
   "source": [
    "%%shell\n",
    "cd darknet\n",
    "make\n",
    "\n",
    "# If darknet.exe is in the main file move to x64\n",
    "mv darknet build/darknet/x64"
   ]
  },
  {
   "cell_type": "code",
   "execution_count": null,
   "metadata": {},
   "outputs": [],
   "source": [
    "# Download some default weights to the x64 folder\n",
    "# YOLOv3 and YOLOv3 tiny weights\n",
    "%cd darknet/build/darknet/x64\n",
    "!wget https://pjreddie.com/media/files/yolov3.weights\n",
    "!wget https://pjreddie.com/media/files/yolov3-tiny.weights\n",
    "!./darknet partial yolov3-tiny-obj.cfg yolov3-tiny.weights  yolov3-tiny.conv.15 15"
   ]
  },
  {
   "cell_type": "markdown",
   "metadata": {},
   "source": [
    "## Uploading files\n",
    "\n",
    "The following files need to be added to certain directories of the _darknet/build/darknet/x64_ path. A short explanation of what they are is given but AlexeyAB's repository explains everything in more detail:\n",
    "- **Weights** to _backup_ folder. These are not necessary and new ones will be generated for training, but you might want to start training on pretrained data or train a model for longer.\n",
    "- **obj.data, obj.names, and train.txt** to _data_ folder. The first file contains general information about the dataset, the second one the label, and the last one the path to all images.\n",
    "- **Images/Data** to _data/obj_. You may need to create or upload the _obj_ folder, this is where all your images will be located.\n",
    "- **.cfg file** to _x64_. This is the configuration of the model, you can download it from the repo and modify it to fit your data."
   ]
  },
  {
   "cell_type": "code",
   "execution_count": null,
   "metadata": {},
   "outputs": [],
   "source": [
    "# Anchors for YOLOv3 and YOLOv3-tiny model\n",
    "# These need to be modified for your desired resolution\n",
    "# And for the data you will be using, then change anchors in .cfg file\n",
    "!./darknet detector calc_anchors data/obj.data -num_of_clusters 9 -width 512 -height 512\n",
    "!./darknet detector calc_anchors data/obj.data -num_of_clusters 6 -width 480 -height 480"
   ]
  },
  {
   "cell_type": "markdown",
   "metadata": {},
   "source": [
    "## Training and testing\n",
    "While training and testing you need to run the following commands while on _darknet/build/darknet/x64_, where your darknet.exe file is located. While training, the weights will be saved in the _backup_ folder every hundred iterations. The predictions will be saved as an image _predictions.jpg_. You will need to replace some of the parts in the command to include your desired weights and config file."
   ]
  },
  {
   "cell_type": "code",
   "execution_count": null,
   "metadata": {},
   "outputs": [],
   "source": [
    "# Training\n",
    "!./darknet detector train data/obj.data yolov3-tiny-obj.cfg backup/yolov3-tiny-obj_last.weights -dont_show"
   ]
  },
  {
   "cell_type": "code",
   "execution_count": null,
   "metadata": {},
   "outputs": [],
   "source": [
    "# Testing\n",
    "!./darknet detector test data/obj.data yolov3-tiny-obj-test.cfg backup/yolov3-tiny-obj_4000.weights -ext_output"
   ]
  }
 ],
 "metadata": {
  "kernelspec": {
   "display_name": "Python 3",
   "language": "python",
   "name": "python3"
  },
  "language_info": {
   "codemirror_mode": {
    "name": "ipython",
    "version": 3
   },
   "file_extension": ".py",
   "mimetype": "text/x-python",
   "name": "python",
   "nbconvert_exporter": "python",
   "pygments_lexer": "ipython3",
   "version": "3.7.1"
  }
 },
 "nbformat": 4,
 "nbformat_minor": 2
}
